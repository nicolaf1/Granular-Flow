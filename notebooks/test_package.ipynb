import numpy as np
import ctypes
from numpy.ctypeslib import ndpointer

# Carica la libreria compilata
lib = ctypes.CDLL("/mnt/data/Granular-Flow-main/Granular-Flow-main/lib/libgranular.so")

# Definizione dei tipi della funzione step_forward
lib.step_forward.argtypes = [
    ndpointer(ctypes.c_double, flags='C_CONTIGUOUS'),
    ndpointer(ctypes.c_double, flags='C_CONTIGUOUS'),
    ndpointer(ctypes.c_double, flags='C_CONTIGUOUS'),
    ndpointer(ctypes.c_double, flags='C_CONTIGUOUS'),
    ctypes.c_int, ctypes.c_int,
    ctypes.c_double, ctypes.c_double, ctypes.c_double,
    ctypes.c_double, ctypes.c_double
]

# Dati iniziali
nx, ny = 100, 100
h = np.ones((ny, nx), dtype=np.float64)
u = np.zeros((ny, nx), dtype=np.float64)
v = np.zeros((ny, nx), dtype=np.float64)
z = np.zeros((ny, nx), dtype=np.float64)

# Piccola collina al centro
z[ny//2 - 5:ny//2 + 5, nx//2 - 5:nx//2 + 5] = 0.1

# Parametri fisici
dx = dy = 1.0
dt = 0.01
g = 9.81
k = 0.1

# Chiamata alla funzione C
lib.step_forward(h.ravel(), u.ravel(), v.ravel(), z.ravel(),
                 nx, ny, dx, dy, dt, g, k)

# Verifica aggiornamento
import matplotlib.pyplot as plt
plt.imshow(h, cmap='viridis')
plt.colorbar(label="h (depth)")
plt.title("h dopo un passo di simulazione")
plt.show()

